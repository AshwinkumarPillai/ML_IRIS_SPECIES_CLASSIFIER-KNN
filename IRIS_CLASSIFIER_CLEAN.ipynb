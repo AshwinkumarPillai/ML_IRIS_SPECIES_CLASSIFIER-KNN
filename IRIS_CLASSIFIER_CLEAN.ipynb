{
 "cells": [
  {
   "cell_type": "markdown",
   "metadata": {},
   "source": [
    "### Imports"
   ]
  },
  {
   "cell_type": "code",
   "execution_count": 4,
   "metadata": {},
   "outputs": [],
   "source": [
    "import sys\n",
    "import numpy as np\n",
    "import pandas as pd\n",
    "import sklearn\n",
    "import mglearn\n",
    "from sklearn.model_selection import train_test_split as tts\n",
    "from pandas.plotting import scatter_matrix"
   ]
  },
  {
   "cell_type": "markdown",
   "metadata": {},
   "source": [
    "### Dataset"
   ]
  },
  {
   "cell_type": "code",
   "execution_count": 17,
   "metadata": {},
   "outputs": [
    {
     "name": "stdout",
     "output_type": "stream",
     "text": [
      "Number of training examples: m =  150\n",
      "Number of features         : n_x =  4\n",
      "The 0 th column of data means the feature:  sepal length (cm)\n",
      "The 1 th column of data means the feature:  sepal width (cm)\n",
      "The 2 th column of data means the feature:  petal length (cm)\n",
      "The 3 th column of data means the feature:  petal width (cm)\n",
      "The value of Y corresponding to  0  =  setosa\n",
      "The value of Y corresponding to  1  =  versicolor\n",
      "The value of Y corresponding to  2  =  virginica\n"
     ]
    }
   ],
   "source": [
    "from sklearn.datasets import load_iris\n",
    "dataset = load_iris()\n",
    "data = dataset['data']\n",
    "target = dataset['target']\n",
    "target_names = dataset['target_names']\n",
    "feature_names = dataset['feature_names']\n",
    "\n",
    "print(\"Number of training examples: m = \",data.shape[0])\n",
    "print(\"Number of features         : n_x = \",data.shape[1])\n",
    "for i in range(0,data.shape[1]):\n",
    "    print(\"The\",i,\"th column of data means the feature: \",feature_names[i])\n",
    "for i in range(0,3):\n",
    "    print('The value of Y corresponding to ',i,\" = \",target_names[i])\n"
   ]
  },
  {
   "cell_type": "markdown",
   "metadata": {},
   "source": [
    "### Training our data"
   ]
  },
  {
   "cell_type": "code",
   "execution_count": 21,
   "metadata": {},
   "outputs": [
    {
     "name": "stdout",
     "output_type": "stream",
     "text": [
      "Number of features:  4\n",
      "NUmber of examples for training and testing are respectively:  112 38  out of total:  150\n",
      "Shape of test and train datasets: \n",
      "X_train  :  (112, 4)\n",
      "X_test   :  (38, 4)\n",
      "y_train  :  (112,)\n",
      "y_test   :  (38,)\n"
     ]
    }
   ],
   "source": [
    "X_train,X_test,y_train,y_test = tts(data,target,random_state = 0)\n",
    "print(\"Number of features: \",X_train.shape[1])\n",
    "print(\"NUmber of examples for training and testing are respectively: \",X_train.shape[0],X_test.shape[0],\" out of total: \",data.shape[0])\n",
    "print(\"Shape of test and train datasets: \")\n",
    "print(\"X_train  : \",X_train.shape)\n",
    "print(\"X_test   : \",X_test.shape)\n",
    "print(\"y_train  : \",y_train.shape)\n",
    "print(\"y_test   : \",y_test.shape)"
   ]
  },
  {
   "cell_type": "markdown",
   "metadata": {},
   "source": [
    "### Model"
   ]
  },
  {
   "cell_type": "code",
   "execution_count": 28,
   "metadata": {},
   "outputs": [],
   "source": [
    "knn = sklearn.neighbors.KNeighborsClassifier(n_neighbors = 1)"
   ]
  },
  {
   "cell_type": "markdown",
   "metadata": {},
   "source": [
    "### Training Model"
   ]
  },
  {
   "cell_type": "code",
   "execution_count": 29,
   "metadata": {},
   "outputs": [
    {
     "data": {
      "text/plain": [
       "KNeighborsClassifier(algorithm='auto', leaf_size=30, metric='minkowski',\n",
       "                     metric_params=None, n_jobs=None, n_neighbors=1, p=2,\n",
       "                     weights='uniform')"
      ]
     },
     "execution_count": 29,
     "metadata": {},
     "output_type": "execute_result"
    }
   ],
   "source": [
    "knn.fit(X_train,y_train)"
   ]
  },
  {
   "cell_type": "markdown",
   "metadata": {},
   "source": [
    "### Prediction"
   ]
  },
  {
   "cell_type": "code",
   "execution_count": 33,
   "metadata": {},
   "outputs": [
    {
     "name": "stdout",
     "output_type": "stream",
     "text": [
      "sepal length (cm)  :  5.0\n",
      "sepal width (cm)  :  2.9\n",
      "petal length (cm)  :  1.0\n",
      "petal width (cm)  :  0.2\n",
      "KNN Predicted value:  [0]\n",
      "The species of iris with above mentioned features is:  ['setosa']\n"
     ]
    }
   ],
   "source": [
    "test = np.array([[5,2.9,1,0.2]])\n",
    "for i in range(0,test.shape[1]):\n",
    "    print(feature_names[i],\" : \",test[0][i])\n",
    "prediction = knn.predict(test)\n",
    "print(\"KNN Predicted value: \",prediction)\n",
    "print(\"The species of iris with above mentioned features is: \",target_names[prediction])"
   ]
  },
  {
   "cell_type": "markdown",
   "metadata": {},
   "source": [
    "### Evaluating model"
   ]
  },
  {
   "cell_type": "code",
   "execution_count": 34,
   "metadata": {},
   "outputs": [
    {
     "name": "stdout",
     "output_type": "stream",
     "text": [
      "sepal length (cm)  :  5.8, sepal width (cm)  :  2.8, petal length (cm)  :  5.1, petal width (cm)  :  2.4, Prediction:  2  Species:  virginica\n",
      "sepal length (cm)  :  6.0, sepal width (cm)  :  2.2, petal length (cm)  :  4.0, petal width (cm)  :  1.0, Prediction:  1  Species:  versicolor\n",
      "sepal length (cm)  :  5.5, sepal width (cm)  :  4.2, petal length (cm)  :  1.4, petal width (cm)  :  0.2, Prediction:  0  Species:  setosa\n",
      "sepal length (cm)  :  7.3, sepal width (cm)  :  2.9, petal length (cm)  :  6.3, petal width (cm)  :  1.8, Prediction:  2  Species:  virginica\n",
      "sepal length (cm)  :  5.0, sepal width (cm)  :  3.4, petal length (cm)  :  1.5, petal width (cm)  :  0.2, Prediction:  0  Species:  setosa\n",
      "sepal length (cm)  :  6.3, sepal width (cm)  :  3.3, petal length (cm)  :  6.0, petal width (cm)  :  2.5, Prediction:  2  Species:  virginica\n",
      "sepal length (cm)  :  5.0, sepal width (cm)  :  3.5, petal length (cm)  :  1.3, petal width (cm)  :  0.3, Prediction:  0  Species:  setosa\n",
      "sepal length (cm)  :  6.7, sepal width (cm)  :  3.1, petal length (cm)  :  4.7, petal width (cm)  :  1.5, Prediction:  1  Species:  versicolor\n",
      "sepal length (cm)  :  6.8, sepal width (cm)  :  2.8, petal length (cm)  :  4.8, petal width (cm)  :  1.4, Prediction:  1  Species:  versicolor\n",
      "sepal length (cm)  :  6.1, sepal width (cm)  :  2.8, petal length (cm)  :  4.0, petal width (cm)  :  1.3, Prediction:  1  Species:  versicolor\n",
      "sepal length (cm)  :  6.1, sepal width (cm)  :  2.6, petal length (cm)  :  5.6, petal width (cm)  :  1.4, Prediction:  2  Species:  virginica\n",
      "sepal length (cm)  :  6.4, sepal width (cm)  :  3.2, petal length (cm)  :  4.5, petal width (cm)  :  1.5, Prediction:  1  Species:  versicolor\n",
      "sepal length (cm)  :  6.1, sepal width (cm)  :  2.8, petal length (cm)  :  4.7, petal width (cm)  :  1.2, Prediction:  1  Species:  versicolor\n",
      "sepal length (cm)  :  6.5, sepal width (cm)  :  2.8, petal length (cm)  :  4.6, petal width (cm)  :  1.5, Prediction:  1  Species:  versicolor\n",
      "sepal length (cm)  :  6.1, sepal width (cm)  :  2.9, petal length (cm)  :  4.7, petal width (cm)  :  1.4, Prediction:  1  Species:  versicolor\n",
      "sepal length (cm)  :  4.9, sepal width (cm)  :  3.6, petal length (cm)  :  1.4, petal width (cm)  :  0.1, Prediction:  0  Species:  setosa\n",
      "sepal length (cm)  :  6.0, sepal width (cm)  :  2.9, petal length (cm)  :  4.5, petal width (cm)  :  1.5, Prediction:  1  Species:  versicolor\n",
      "sepal length (cm)  :  5.5, sepal width (cm)  :  2.6, petal length (cm)  :  4.4, petal width (cm)  :  1.2, Prediction:  1  Species:  versicolor\n",
      "sepal length (cm)  :  4.8, sepal width (cm)  :  3.0, petal length (cm)  :  1.4, petal width (cm)  :  0.3, Prediction:  0  Species:  setosa\n",
      "sepal length (cm)  :  5.4, sepal width (cm)  :  3.9, petal length (cm)  :  1.3, petal width (cm)  :  0.4, Prediction:  0  Species:  setosa\n",
      "sepal length (cm)  :  5.6, sepal width (cm)  :  2.8, petal length (cm)  :  4.9, petal width (cm)  :  2.0, Prediction:  2  Species:  virginica\n",
      "sepal length (cm)  :  5.6, sepal width (cm)  :  3.0, petal length (cm)  :  4.5, petal width (cm)  :  1.5, Prediction:  1  Species:  versicolor\n",
      "sepal length (cm)  :  4.8, sepal width (cm)  :  3.4, petal length (cm)  :  1.9, petal width (cm)  :  0.2, Prediction:  0  Species:  setosa\n",
      "sepal length (cm)  :  4.4, sepal width (cm)  :  2.9, petal length (cm)  :  1.4, petal width (cm)  :  0.2, Prediction:  0  Species:  setosa\n",
      "sepal length (cm)  :  6.2, sepal width (cm)  :  2.8, petal length (cm)  :  4.8, petal width (cm)  :  1.8, Prediction:  2  Species:  virginica\n",
      "sepal length (cm)  :  4.6, sepal width (cm)  :  3.6, petal length (cm)  :  1.0, petal width (cm)  :  0.2, Prediction:  0  Species:  setosa\n",
      "sepal length (cm)  :  5.1, sepal width (cm)  :  3.8, petal length (cm)  :  1.9, petal width (cm)  :  0.4, Prediction:  0  Species:  setosa\n",
      "sepal length (cm)  :  6.2, sepal width (cm)  :  2.9, petal length (cm)  :  4.3, petal width (cm)  :  1.3, Prediction:  1  Species:  versicolor\n",
      "sepal length (cm)  :  5.0, sepal width (cm)  :  2.3, petal length (cm)  :  3.3, petal width (cm)  :  1.0, Prediction:  1  Species:  versicolor\n",
      "sepal length (cm)  :  5.0, sepal width (cm)  :  3.4, petal length (cm)  :  1.6, petal width (cm)  :  0.4, Prediction:  0  Species:  setosa\n",
      "sepal length (cm)  :  6.4, sepal width (cm)  :  3.1, petal length (cm)  :  5.5, petal width (cm)  :  1.8, Prediction:  2  Species:  virginica\n",
      "sepal length (cm)  :  5.4, sepal width (cm)  :  3.0, petal length (cm)  :  4.5, petal width (cm)  :  1.5, Prediction:  1  Species:  versicolor\n",
      "sepal length (cm)  :  5.2, sepal width (cm)  :  3.5, petal length (cm)  :  1.5, petal width (cm)  :  0.2, Prediction:  0  Species:  setosa\n",
      "sepal length (cm)  :  6.1, sepal width (cm)  :  3.0, petal length (cm)  :  4.9, petal width (cm)  :  1.8, Prediction:  2  Species:  virginica\n",
      "sepal length (cm)  :  6.4, sepal width (cm)  :  2.8, petal length (cm)  :  5.6, petal width (cm)  :  2.2, Prediction:  2  Species:  virginica\n",
      "sepal length (cm)  :  5.2, sepal width (cm)  :  2.7, petal length (cm)  :  3.9, petal width (cm)  :  1.4, Prediction:  1  Species:  versicolor\n",
      "sepal length (cm)  :  5.7, sepal width (cm)  :  3.8, petal length (cm)  :  1.7, petal width (cm)  :  0.3, Prediction:  0  Species:  setosa\n",
      "sepal length (cm)  :  6.0, sepal width (cm)  :  2.7, petal length (cm)  :  5.1, petal width (cm)  :  1.6, Prediction:  2  Species:  virginica\n"
     ]
    }
   ],
   "source": [
    "y_pred = knn.predict(X_test)\n",
    "for i in range(X_test.shape[0]):\n",
    "    for j in range(X_test.shape[1]):\n",
    "        print(feature_names[j],\" : \", X_test[i][j],end = ', ')\n",
    "    print(\"Prediction: \",y_pred[i],\" Species: \",target_names[y_pred[i]])"
   ]
  },
  {
   "cell_type": "code",
   "execution_count": 37,
   "metadata": {},
   "outputs": [
    {
     "name": "stdout",
     "output_type": "stream",
     "text": [
      "SCORE using math      : 0.97\n",
      "SCORE using knn score : 0.97\n"
     ]
    }
   ],
   "source": [
    "print(\"SCORE using math      : {:.2f}\".format(np.mean(y_pred == y_test)))\n",
    "print(\"SCORE using knn score : {:.2f}\".format(knn.score(X_test,y_test)))"
   ]
  },
  {
   "cell_type": "code",
   "execution_count": null,
   "metadata": {},
   "outputs": [],
   "source": []
  }
 ],
 "metadata": {
  "kernelspec": {
   "display_name": "Python 3",
   "language": "python",
   "name": "python3"
  },
  "language_info": {
   "codemirror_mode": {
    "name": "ipython",
    "version": 3
   },
   "file_extension": ".py",
   "mimetype": "text/x-python",
   "name": "python",
   "nbconvert_exporter": "python",
   "pygments_lexer": "ipython3",
   "version": "3.7.4"
  }
 },
 "nbformat": 4,
 "nbformat_minor": 2
}
